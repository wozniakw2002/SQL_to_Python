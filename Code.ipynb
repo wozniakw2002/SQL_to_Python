{
 "cells": [
  {
   "cell_type": "markdown",
   "id": "d4e7d6bb",
   "metadata": {},
   "source": [
    "# Projekt numer 4 - operacje na ramkach danych  \n",
    "\n",
    "Wiktor Woźniak\n",
    "\n",
    "## Wstęp\n",
    "  \n",
    "Ten projekt ma na celu odtworzenie pięciu różnych zapytań SQL w Python za pomocą pakietów numpy oraz pandas. Każde zapytanie zostało wykonane na 2 sposoby: \n",
    "  \n",
    "1. Zapytanie SQL  \n",
    "2. Zapytanie Python  \n",
    "  \n",
    "Dodatkowo dla każdego zapytania zostały wykonane sprawdzenia poprawności wyników ramek oraz zostało sprawdzone czy wynikowy typ zapytań pythona jest ramką danych.  \n",
    "  \n",
    "Operuję na ramkach danych ze strony https://travel.stackexchange.com/. Dodatkowo w celu wyjaśnienia zapytań korzystam ze strony https://meta.stackexchange.com/questions/2677/database-schema-documentation-for-the-public-data-dump-and-sede/2678#2678 oraz https://ia600107.us.archive.org/27/items/stackexchange/readme.txt\n"
   ]
  },
  {
   "cell_type": "markdown",
   "id": "64fde7d6",
   "metadata": {},
   "source": [
    "## Przygotowanie danych\n",
    "  \n",
    "Zaimportowanie potrzebnych pakietów, zaczytanie plików, stworzenie bazy danych oraz dodanie do niej plików"
   ]
  },
  {
   "cell_type": "code",
   "execution_count": 1,
   "id": "cddf5330",
   "metadata": {},
   "outputs": [],
   "source": [
    "import numpy as np\n",
    "import pandas as pd\n",
    "import os, os.path\n",
    "import sqlite3\n",
    "import time\n",
    "pd.set_option(\"display.notebook_repr_html\", False) # ustawienia wyświetlania\n",
    "\n",
    "# Zaczyatnie plików\n",
    "\n",
    "\n",
    "Badges = pd.read_csv(\"travel_stackexchange_com/Badges.csv.gz\",\n",
    "                    compression = 'gzip')\n",
    "Badges.head()\n",
    "\n",
    "Comments = pd.read_csv(\"travel_stackexchange_com/Comments.csv.gz\",\n",
    "                        compression = 'gzip')\n",
    "Comments.head()\n",
    "\n",
    "PostLinks = pd.read_csv(\"travel_stackexchange_com/PostLinks.csv.gz\",\n",
    "compression = 'gzip')\n",
    "PostLinks.head()\n",
    "\n",
    "Posts = pd.read_csv(\"travel_stackexchange_com/Posts.csv.gz\",\n",
    "compression = 'gzip')\n",
    "Posts.head()\n",
    "\n",
    "Tags = pd.read_csv(\"travel_stackexchange_com/Tags.csv.gz\",\n",
    "compression = 'gzip')\n",
    "Tags.head()\n",
    "\n",
    "Users = pd.read_csv(\"travel_stackexchange_com/Users.csv.gz\",\n",
    "compression = 'gzip')\n",
    "Users.head()\n",
    "\n",
    "Votes = pd.read_csv(\"travel_stackexchange_com/Votes.csv.gz\",\n",
    "compression = 'gzip')\n",
    "Votes.head()\n",
    "\n",
    "# Stworzenie bazy danych oraz dodnie plików\n",
    "baza = os.path.join('baza.db')\n",
    "\n",
    "if os.path.isfile(baza): \n",
    "    os.remove(baza)\n",
    "\n",
    "conn = sqlite3.connect(baza) \n",
    "Badges.to_sql(\"Badges\", conn)\n",
    "Comments.to_sql(\"Comments\", conn)\n",
    "PostLinks.to_sql(\"PostLinks\", conn)\n",
    "Posts.to_sql(\"Posts\", conn)\n",
    "Tags.to_sql(\"Tags\", conn)\n",
    "Users.to_sql(\"Users\", conn)\n",
    "Votes.to_sql(\"Votes\", conn)\n",
    "\n",
    "\n"
   ]
  },
  {
   "cell_type": "markdown",
   "id": "6c11667c",
   "metadata": {},
   "source": [
    "## Zadanie 1\n",
    "  \n",
    "Wybór etykiet oraz ich ilości, wtedy gdy ilość jest większa od 1000. Etykiety są posortowane malejąco po ilości."
   ]
  },
  {
   "cell_type": "markdown",
   "id": "baca24b6",
   "metadata": {},
   "source": [
    "### Zapytanie SQL"
   ]
  },
  {
   "cell_type": "code",
   "execution_count": 2,
   "id": "1e81d6b8",
   "metadata": {},
   "outputs": [],
   "source": [
    "sql1 = pd.read_sql_query(\"\"\"\n",
    "                    SELECT Count, TagName\n",
    "                    FROM Tags\n",
    "                    WHERE Count > 1000\n",
    "                    ORDER BY Count DESC\n",
    "                    \"\"\", conn)"
   ]
  },
  {
   "cell_type": "markdown",
   "id": "e34a06ea",
   "metadata": {},
   "source": [
    "### Zapytanie Python"
   ]
  },
  {
   "cell_type": "code",
   "execution_count": 3,
   "id": "9c9c0a43",
   "metadata": {},
   "outputs": [],
   "source": [
    "python1 = Tags.loc[ Tags.Count > 1000, [\"Count\", \"TagName\"]]\\\n",
    "            .sort_values([\"Count\"], ascending = [False])\\\n",
    "            .reset_index(drop = True)\n"
   ]
  },
  {
   "cell_type": "markdown",
   "id": "f3b24017",
   "metadata": {},
   "source": [
    "### Sprawdzenie poprawności wyników "
   ]
  },
  {
   "cell_type": "code",
   "execution_count": 4,
   "id": "65cb4a5c",
   "metadata": {},
   "outputs": [
    {
     "data": {
      "text/plain": [
       "True"
      ]
     },
     "execution_count": 4,
     "metadata": {},
     "output_type": "execute_result"
    }
   ],
   "source": [
    "sql1.equals(python1)"
   ]
  },
  {
   "cell_type": "code",
   "execution_count": 5,
   "id": "537cc61a",
   "metadata": {},
   "outputs": [
    {
     "data": {
      "text/plain": [
       "True"
      ]
     },
     "execution_count": 5,
     "metadata": {},
     "output_type": "execute_result"
    }
   ],
   "source": [
    "isinstance(python1, pd.core.frame.DataFrame)"
   ]
  },
  {
   "cell_type": "markdown",
   "id": "e79ff9ea",
   "metadata": {},
   "source": [
    "## Zadanie 2\n",
    "  \n",
    "Wybór dziesięciu najczęściej wskazywanych przez użytkowników lokalizacji posortowanych malejąco po ilości."
   ]
  },
  {
   "cell_type": "markdown",
   "id": "92a31d52",
   "metadata": {},
   "source": [
    "### SQL"
   ]
  },
  {
   "cell_type": "code",
   "execution_count": 6,
   "id": "e08302ae",
   "metadata": {},
   "outputs": [],
   "source": [
    "sql2 = pd.read_sql_query(\"\"\"\n",
    "                    SELECT Location, COUNT(*) AS Count\n",
    "                    FROM (\n",
    "                        SELECT Posts.OwnerUserId, Users.Id, Users.Location\n",
    "                        FROM Users\n",
    "                        JOIN Posts ON Users.Id = Posts.OwnerUserId\n",
    "                    )\n",
    "                    WHERE Location NOT IN ('')\n",
    "                    GROUP BY Location\n",
    "                    ORDER BY Count DESC\n",
    "                    LIMIT 10\n",
    "                    \"\"\", conn)\n"
   ]
  },
  {
   "cell_type": "markdown",
   "id": "bbb96b41",
   "metadata": {},
   "source": [
    "### Python"
   ]
  },
  {
   "cell_type": "code",
   "execution_count": 7,
   "id": "14d18948",
   "metadata": {},
   "outputs": [],
   "source": [
    "# Stworzenie złączonej ramki i wybór odpowiednich kolumn\n",
    "polaczone = Users.merge(Posts, left_on = \"Id\", right_on = \"OwnerUserId\", how = \"inner\")\\\n",
    "                        .rename(columns = {\"Id_x\": \"Id\"})\n",
    "polaczone = polaczone[[\"Id\", \"Location\"]] \n",
    "\n",
    "# Wykonanie agregacji na powyższej ramce\n",
    "python2 = polaczone.loc[polaczone.Location != \"\", [\"Location\"]]\\\n",
    "                        .groupby(\"Location\")\\\n",
    "                        .size().reset_index().rename(columns={0: 'Count'})\n",
    "\n",
    "# Formatowanie wyniku\n",
    "python2 = python2.sort_values([\"Count\"], ascending = [False]).reset_index(drop = True)\n",
    "python2 = python2.head(10)"
   ]
  },
  {
   "cell_type": "markdown",
   "id": "ac44c8c8",
   "metadata": {},
   "source": [
    "### Sprawdzenie poprawności wyników"
   ]
  },
  {
   "cell_type": "code",
   "execution_count": 8,
   "id": "6d60b46d",
   "metadata": {},
   "outputs": [
    {
     "data": {
      "text/plain": [
       "True"
      ]
     },
     "execution_count": 8,
     "metadata": {},
     "output_type": "execute_result"
    }
   ],
   "source": [
    "sql2.equals(python2)"
   ]
  },
  {
   "cell_type": "code",
   "execution_count": 9,
   "id": "bdf34561",
   "metadata": {},
   "outputs": [
    {
     "data": {
      "text/plain": [
       "True"
      ]
     },
     "execution_count": 9,
     "metadata": {},
     "output_type": "execute_result"
    }
   ],
   "source": [
    "isinstance(python2, pd.core.frame.DataFrame)"
   ]
  },
  {
   "cell_type": "markdown",
   "id": "24a39a54",
   "metadata": {},
   "source": [
    "## Zadanie 3\n",
    "  \n",
    "Wybór ogólnej ilości złotych odznak (Class = 1) zdobytych w danym roku."
   ]
  },
  {
   "cell_type": "markdown",
   "id": "e99c43c3",
   "metadata": {},
   "source": [
    "### SQL "
   ]
  },
  {
   "cell_type": "code",
   "execution_count": 10,
   "id": "a7233047",
   "metadata": {},
   "outputs": [],
   "source": [
    "sql3 = pd.read_sql_query(\"\"\"\n",
    "                    SELECT Year, SUM(Number) AS TotalNumber\n",
    "                    FROM (\n",
    "                            SELECT\n",
    "                            Name,\n",
    "                            COUNT(*) AS Number,\n",
    "                            STRFTIME('%Y', Badges.Date) AS Year\n",
    "                            FROM Badges\n",
    "                            WHERE Class = 1\n",
    "                            GROUP BY Name, Year\n",
    "                        )\n",
    "                    GROUP BY Year\n",
    "                    ORDER BY TotalNumber\n",
    "                    \"\"\", conn)\n"
   ]
  },
  {
   "cell_type": "markdown",
   "id": "08e0d29a",
   "metadata": {},
   "source": [
    "### Python"
   ]
  },
  {
   "cell_type": "code",
   "execution_count": 11,
   "id": "8cf387a5",
   "metadata": {},
   "outputs": [],
   "source": [
    "# Stworzenie ramki i wybranie odpowiednich kolumn\n",
    "wybor = Badges.loc[Badges.Class == 1, :].copy()\n",
    "wybor.loc[:, [\"Year\"]] = pd.to_datetime(wybor['Date']).apply(lambda x: x.strftime('%Y'))\n",
    "wybor = wybor[[\"Name\", \"Year\"]].groupby([\"Name\", \"Year\"])\\\n",
    "        .size().reset_index().rename(columns={0: 'Number'})\n",
    "\n",
    "# Wykonanie agregacji na powyższej ramce i formatowanie wyniku\n",
    "python3 = wybor.groupby([\"Year\"])[\"Number\"].agg(np.sum)\\\n",
    "        .reset_index().rename(columns = ({'Number': 'TotalNumber'})).sort_values([\"TotalNumber\"]).reset_index(drop = True)\n"
   ]
  },
  {
   "cell_type": "markdown",
   "id": "ec021782",
   "metadata": {},
   "source": [
    "### Sprawdzenie poprawności"
   ]
  },
  {
   "cell_type": "code",
   "execution_count": 12,
   "id": "05266432",
   "metadata": {},
   "outputs": [
    {
     "data": {
      "text/plain": [
       "True"
      ]
     },
     "execution_count": 12,
     "metadata": {},
     "output_type": "execute_result"
    }
   ],
   "source": [
    "sql3.equals(python3)"
   ]
  },
  {
   "cell_type": "code",
   "execution_count": 13,
   "id": "1eeb3eb7",
   "metadata": {},
   "outputs": [
    {
     "data": {
      "text/plain": [
       "True"
      ]
     },
     "execution_count": 13,
     "metadata": {},
     "output_type": "execute_result"
    }
   ],
   "source": [
    "isinstance(python3, pd.core.frame.DataFrame)"
   ]
  },
  {
   "cell_type": "markdown",
   "id": "88e5c2b3",
   "metadata": {},
   "source": [
    "## Zadanie 4\n",
    "  \n",
    "Wybieramy informację o dziesięciu urzytkowników których średnia odpowiedzi (PostTypeId = 2) jest największą i dodatkowo najmniejsze mają najniższe ID."
   ]
  },
  {
   "cell_type": "markdown",
   "id": "912bc4de",
   "metadata": {},
   "source": [
    "### SQL "
   ]
  },
  {
   "cell_type": "code",
   "execution_count": 14,
   "id": "8a476f76",
   "metadata": {},
   "outputs": [],
   "source": [
    "sql4 = pd.read_sql_query(\"\"\"\n",
    "                    SELECT\n",
    "                        Users.AccountId,\n",
    "                        Users.DisplayName,\n",
    "                        Users.Location,\n",
    "                        AVG(PostAuth.AnswersCount) as AverageAnswersCount\n",
    "                    FROM\n",
    "                    (\n",
    "                        SELECT\n",
    "                            AnsCount.AnswersCount,\n",
    "                            Posts.Id,\n",
    "                            Posts.OwnerUserId\n",
    "                        FROM (\n",
    "                                SELECT Posts.ParentId, COUNT(*) AS AnswersCount\n",
    "                                FROM Posts\n",
    "                                WHERE Posts.PostTypeId = 2\n",
    "                                GROUP BY Posts.ParentId\n",
    "                            ) AS AnsCount\n",
    "                        JOIN Posts ON Posts.Id = AnsCount.ParentId\n",
    "                    ) AS PostAuth\n",
    "                    JOIN Users ON Users.AccountId=PostAuth.OwnerUserId\n",
    "                    GROUP BY OwnerUserId\n",
    "                    ORDER BY AverageAnswersCount DESC, AccountId ASC\n",
    "                    LIMIT 10\n",
    "\n",
    "                    \"\"\", conn)\n"
   ]
  },
  {
   "cell_type": "markdown",
   "id": "3466749e",
   "metadata": {},
   "source": [
    "### Python"
   ]
  },
  {
   "cell_type": "code",
   "execution_count": 15,
   "id": "40268cee",
   "metadata": {},
   "outputs": [],
   "source": [
    "# Wykonanie operacji na odpowiedniej podramce ramki Posts\n",
    "AnsCount = Posts.loc[Posts.PostTypeId == 2, [\"ParentId\"]].groupby([\"ParentId\"])\\\n",
    "            .size().reset_index().rename(columns = {0: \"AnswersCount\"})\n",
    "\n",
    "# Złączenie ramek Posts i powyższej oraz wybór odpowiednich kolumn\n",
    "PostAuth = Posts.merge(AnsCount, left_on = \"Id\", right_on = \"ParentId\", how = \"inner\")\\\n",
    "            .rename(columns = {\"Id_x\": \"Id\"})[[\"AnswersCount\", \"Id\", \"OwnerUserId\"]]\n",
    "\n",
    "#  Złączenie ramek Users i powyższej\n",
    "python4 = PostAuth.merge(Users, left_on = \"OwnerUserId\", right_on = \"AccountId\", how = \"inner\")\\\n",
    "            .rename(columns = {\"OwnerUserId_x\": \"OwnerUserId\"})\n",
    "\n",
    "# Wykonanie agregacji na odpowiedniej podramce powyższej ramki\n",
    "python4 = python4.groupby([\"AccountId\", \"DisplayName\", \"Location\"], dropna = False)[\"AnswersCount\"]\\\n",
    "            .agg(np.mean).reset_index().rename(columns = ({'AnswersCount': 'AverageAnswersCount'}))\n",
    "\n",
    "# Formatowanie wyniku\n",
    "python4 = python4.sort_values([\"AverageAnswersCount\", \"AccountId\"], ascending = [False, True]).head(10).reset_index(drop = True)"
   ]
  },
  {
   "cell_type": "markdown",
   "id": "41d45eca",
   "metadata": {},
   "source": [
    "### Sprawdzenie poprawności wyników "
   ]
  },
  {
   "cell_type": "code",
   "execution_count": 16,
   "id": "9d08e632",
   "metadata": {},
   "outputs": [
    {
     "data": {
      "text/plain": [
       "True"
      ]
     },
     "execution_count": 16,
     "metadata": {},
     "output_type": "execute_result"
    }
   ],
   "source": [
    "sql4.equals(python4)"
   ]
  },
  {
   "cell_type": "code",
   "execution_count": 17,
   "id": "c28a09df",
   "metadata": {},
   "outputs": [
    {
     "data": {
      "text/plain": [
       "True"
      ]
     },
     "execution_count": 17,
     "metadata": {},
     "output_type": "execute_result"
    }
   ],
   "source": [
    "isinstance(python4, pd.core.frame.DataFrame)"
   ]
  },
  {
   "cell_type": "markdown",
   "id": "a2f03381",
   "metadata": {},
   "source": [
    "## Zadanie 5\n",
    "  \n",
    "Wybieramy informacje o 10 postach, dla których różnica głosów łącznie (zaakceptowanych przez twórce, pozytywnych i ulubionych) przed 2020 i po 2020 była największa, nowych głosów jest więcej niz starych i tytuł posta z tymi głosami nie jest pusty."
   ]
  },
  {
   "cell_type": "markdown",
   "id": "e2d125b8",
   "metadata": {},
   "source": [
    "### SQL "
   ]
  },
  {
   "cell_type": "code",
   "execution_count": 18,
   "id": "0f3a759a",
   "metadata": {},
   "outputs": [],
   "source": [
    "sql5 = pd.read_sql_query(\"\"\"\n",
    "                        SELECT Posts.Title, Posts.Id,\n",
    "                            STRFTIME('%Y-%m-%d', Posts.CreationDate) AS Date,\n",
    "                            VotesByAge.Votes\n",
    "                        FROM Posts\n",
    "                        JOIN (\n",
    "                            SELECT\n",
    "                                PostId,\n",
    "                                MAX(CASE WHEN VoteDate = 'new' THEN Total ELSE 0 END) NewVotes,\n",
    "                                MAX(CASE WHEN VoteDate = 'old' THEN Total ELSE 0 END) OldVotes,\n",
    "                                SUM(Total) AS Votes\n",
    "                            FROM (\n",
    "                                SELECT\n",
    "                                    PostId,\n",
    "                                    CASE STRFTIME('%Y', CreationDate)\n",
    "                                        WHEN '2021' THEN 'new'\n",
    "                                        WHEN '2020' THEN 'new'\n",
    "                                        ELSE 'old'\n",
    "                                        END VoteDate,\n",
    "                                    COUNT(*) AS Total\n",
    "                                FROM Votes\n",
    "                                WHERE VoteTypeId IN (1, 2, 5)\n",
    "                                GROUP BY PostId, VoteDate\n",
    "                            ) AS VotesDates\n",
    "                            GROUP BY VotesDates.PostId\n",
    "                            HAVING NewVotes > OldVotes\n",
    "                        ) AS VotesByAge ON Posts.Id = VotesByAge.PostId\n",
    "                        WHERE Title NOT IN ('')\n",
    "                        ORDER BY Votes DESC\n",
    "                        LIMIT 10\n",
    "                        \"\"\", conn)"
   ]
  },
  {
   "cell_type": "markdown",
   "id": "abd16e4a",
   "metadata": {},
   "source": [
    "### Python"
   ]
  },
  {
   "cell_type": "code",
   "execution_count": 19,
   "id": "94322dcf",
   "metadata": {},
   "outputs": [],
   "source": [
    "# Wybór odpowiednich wierszy z ramki Votes i dodanie kolumny, której wartość zależy od daty oddanie głosu\n",
    "VotesDates = Votes.loc[Votes.VoteTypeId.isin([1,2,5]),:].copy()\n",
    "VotesDates[\"VoteDate\"] = pd.to_datetime(VotesDates['CreationDate']).apply(lambda x: x.strftime('%Y'))\n",
    "VotesDates[\"VoteDate\"] = VotesDates[\"VoteDate\"].apply(lambda x: \"new\" if(x == '2020' or x =='2021') else \"old\")\n",
    "\n",
    "# Wykonanie agregacji na powyższej ramce.\n",
    "VotesDates = VotesDates.groupby([\"PostId\", \"VoteDate\"])\\\n",
    "            .size().reset_index().rename(columns = {0: \"Total\"})\n",
    "\n",
    "# Dodanie do powyższej ramki dwóch nowych kolumn z wartościami zależnymi od tego czy oddany głos jest nowy\n",
    "n = lambda x: 1 if x == 'new' else 0.\n",
    "VotesDates[\"NewVotes\"] = VotesDates.Total * VotesDates.VoteDate.map(n)\n",
    "o = lambda x: 1 if x == 'old' else 0.\n",
    "VotesDates[\"OldVotes\"] = VotesDates.Total * VotesDates.VoteDate.map(o)\n",
    "\n",
    "# Wykonanie dwóch operacji na powyższej ramce i złączenie wynikowych ramek\n",
    "VotesByAgeMax = VotesDates.groupby([\"PostId\"])[[\"NewVotes\", \"OldVotes\"]]\\\n",
    "                .agg(np.max).reset_index()\n",
    "VotesByAgeTotal = VotesDates.groupby([\"PostId\"])[[\"Total\"]].agg(np.sum)\\\n",
    "                .reset_index().rename(columns = {\"Total\": \"Votes\"})\n",
    "VotesByAge = VotesByAgeMax.merge(VotesByAgeTotal, on = \"PostId\", how = 'inner')\n",
    "\n",
    "# Wybór odpowiednich wierszy z powyższej ramki i złączenie ich z ramką Posts\n",
    "VotesByAge = VotesByAge.loc[VotesByAge.NewVotes > VotesByAge.OldVotes,:]\n",
    "python5 = VotesByAge.merge(Posts, left_on = \"PostId\", right_on = \"Id\", how = \"inner\", suffixes = (\"\",\"\"))\n",
    "\n",
    "# Wybór daty i dołączenie jej do powyższej ramki\n",
    "python5[\"Date\"] = pd.to_datetime(python5['CreationDate']).apply(lambda x: x.strftime('%Y-%m-%d'))\n",
    "\n",
    "# Wybór odpowiednich kolumn i wierszy oraz formatowanie wyników\n",
    "python5 = python5.loc[~python5.Title.isnull(), [\"Title\",\"Id\",\"Date\",\"Votes\"]]\\\n",
    "        .sort_values([\"Votes\", \"Title\"], ascending = [False, True]).head(10).reset_index(drop = True)"
   ]
  },
  {
   "cell_type": "markdown",
   "id": "43a78214",
   "metadata": {},
   "source": [
    "### Sprawdzenie poprawności wyników"
   ]
  },
  {
   "cell_type": "code",
   "execution_count": 20,
   "id": "bc249b5c",
   "metadata": {},
   "outputs": [
    {
     "data": {
      "text/plain": [
       "True"
      ]
     },
     "execution_count": 20,
     "metadata": {},
     "output_type": "execute_result"
    }
   ],
   "source": [
    "sql5.equals(python5)"
   ]
  },
  {
   "cell_type": "code",
   "execution_count": 21,
   "id": "cff9750f",
   "metadata": {},
   "outputs": [
    {
     "data": {
      "text/plain": [
       "True"
      ]
     },
     "execution_count": 21,
     "metadata": {},
     "output_type": "execute_result"
    }
   ],
   "source": [
    "isinstance(python5, pd.core.frame.DataFrame)"
   ]
  },
  {
   "cell_type": "markdown",
   "id": "66ef4fbd",
   "metadata": {},
   "source": [
    "## Podsumowanie\n",
    "  \n",
    "Podsumowując zarówno ten projekt jak i poprzednie mogę stwierdzić, że w Pythonie wykonywanie operacji na ramkach dancyh jest dla mnie przyjemniejsze niż w R. Dodatkowo z moich obserwacji wynika, że zadanie 5, w którym jest dużo formatowania daty i funkcji case:when, najszybciej wykonuje się w Pythonie, a w R te czasy wykonania były zauważalnie wolniejsze. Co ciekawe sortowanie w numpy przebiega trochę inaczej niż normalnie w SQL lub w R w momencie gdy sortujemy po jakiejś wartości i ta wartość w dwóch wierszach wyjdzie taka sama to te wiersze mogą być zamienione kolejnośćią w porównaniu do SQL czy też R dlatego wtedy dobrze jeszcze dodatkowo posortować po jakiejść innej kolumnie ( najlepiej takiej, która ma unikatowe wartości), aby equals() zwracała True  "
   ]
  },
  {
   "cell_type": "code",
   "execution_count": 22,
   "id": "e8da4f08",
   "metadata": {},
   "outputs": [],
   "source": [
    "# Zamknięcie bazy danych\n",
    "conn.close()"
   ]
  }
 ],
 "metadata": {
  "kernelspec": {
   "display_name": "Python 3 (ipykernel)",
   "language": "python",
   "name": "python3"
  },
  "language_info": {
   "codemirror_mode": {
    "name": "ipython",
    "version": 3
   },
   "file_extension": ".py",
   "mimetype": "text/x-python",
   "name": "python",
   "nbconvert_exporter": "python",
   "pygments_lexer": "ipython3",
   "version": "3.9.7"
  }
 },
 "nbformat": 4,
 "nbformat_minor": 5
}
